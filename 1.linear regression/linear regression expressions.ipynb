{
 "cells": [
  {
   "cell_type": "markdown",
   "metadata": {
    "collapsed": true,
    "pycharm": {
     "name": "#%% md\n"
    }
   },
   "source": [
    "单参数的假设h为：\n",
    "$$ h_\\Theta\\left( x \\right)=\\Theta_0+\\Theta_1x $$"
   ]
  },
  {
   "cell_type": "markdown",
   "source": [
    "多参数的假设h为：\n",
    "$$ h_\\Theta\\left( x \\right)=\\Theta_0x_0+\\Theta_1x_1+\\Theta_2x_2+...+\\Theta_nx_n $$\n",
    "其中：$$ x_0=1 $$"
   ],
   "metadata": {
    "collapsed": false
   }
  },
  {
   "cell_type": "markdown",
   "source": [
    "代价函数J为：\n",
    "$$ J\\left(\\Theta\\right)=\\frac{1}{2m}\\sum\\limits_{i=1}^m\\left(h_\\Theta\\left(x^{\\left(i\\right)}\\right)-y^\\left(i\\right)\\right)^2 $$"
   ],
   "metadata": {
    "collapsed": false
   }
  },
  {
   "cell_type": "markdown",
   "source": [
    "梯度下降：\n",
    "$$ \\Theta_j:=\\Theta_j-\\alpha\\frac{\\partial}{\\partial\\Theta_j}J\\left(\\Theta\\right) $$\n",
    "\n",
    "将$ J\\left(\\Theta\\right) $带入，则为：\n",
    "$$ \\Theta_j:=\\Theta_j-\\alpha\\frac{1}{m}\\sum\\limits_{i=1}^m\\left(h_\\Theta\\left(x^\\left(i\\right)\\right)-y^\\left(i\\right)\\right)x^\\left(i\\right) $$\n"
   ],
   "metadata": {
    "collapsed": false
   }
  }
 ],
 "metadata": {
  "kernelspec": {
   "display_name": "Python 3",
   "language": "python",
   "name": "python3"
  },
  "language_info": {
   "codemirror_mode": {
    "name": "ipython",
    "version": 2
   },
   "file_extension": ".py",
   "mimetype": "text/x-python",
   "name": "python",
   "nbconvert_exporter": "python",
   "pygments_lexer": "ipython2",
   "version": "2.7.6"
  }
 },
 "nbformat": 4,
 "nbformat_minor": 0
}