{
 "cells": [
  {
   "cell_type": "markdown",
   "metadata": {
    "collapsed": true,
    "pycharm": {
     "name": "#%% md\n"
    }
   },
   "source": [
    "sigmoid函数：\n",
    "$$ g\\left(z\\right)=\\frac{1}{1+e^{-z}} $$"
   ]
  },
  {
   "cell_type": "markdown",
   "source": [
    "新的假设函数h：\n",
    "$$ h\\left(\\Theta\\right)=\\frac{1}{1+e^{-\\Theta^Tx}} $$"
   ],
   "metadata": {
    "collapsed": false
   }
  },
  {
   "cell_type": "markdown",
   "source": [
    "新的代价函数J：\n",
    "$$ J\\left(\\Theta\\right)=\\frac{1}{m}\\sum_{i=1}^m[-y^\\left(i\\right)\\log\\left(h_\\Theta\\left(x^\\left(i\\right)\\right)\\right)-\\left(1-y\\right)\\log\\left(h_\\Theta\\left(x^\\left(i\\right)\\right)\\right)] $$\n"
   ],
   "metadata": {
    "collapsed": false
   }
  }
 ],
 "metadata": {
  "kernelspec": {
   "display_name": "Python 3",
   "language": "python",
   "name": "python3"
  },
  "language_info": {
   "codemirror_mode": {
    "name": "ipython",
    "version": 2
   },
   "file_extension": ".py",
   "mimetype": "text/x-python",
   "name": "python",
   "nbconvert_exporter": "python",
   "pygments_lexer": "ipython2",
   "version": "2.7.6"
  }
 },
 "nbformat": 4,
 "nbformat_minor": 0
}